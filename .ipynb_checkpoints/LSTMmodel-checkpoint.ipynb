{
 "cells": [
  {
   "cell_type": "code",
   "execution_count": 1,
   "id": "6f215161-7c3b-4a47-b38a-bc2dd01b138b",
   "metadata": {},
   "outputs": [
    {
     "name": "stdout",
     "output_type": "stream",
     "text": [
      "Requirement already satisfied: torch in c:\\users\\iment\\appdata\\local\\programs\\python\\python310\\lib\\site-packages (2.6.0)\n",
      "Requirement already satisfied: filelock in c:\\users\\iment\\appdata\\local\\programs\\python\\python310\\lib\\site-packages (from torch) (3.14.0)\n",
      "Requirement already satisfied: typing-extensions>=4.10.0 in c:\\users\\iment\\appdata\\local\\programs\\python\\python310\\lib\\site-packages (from torch) (4.11.0)\n",
      "Requirement already satisfied: networkx in c:\\users\\iment\\appdata\\local\\programs\\python\\python310\\lib\\site-packages (from torch) (3.3)\n",
      "Requirement already satisfied: jinja2 in c:\\users\\iment\\appdata\\local\\programs\\python\\python310\\lib\\site-packages (from torch) (3.1.2)\n",
      "Requirement already satisfied: fsspec in c:\\users\\iment\\appdata\\local\\programs\\python\\python310\\lib\\site-packages (from torch) (2024.3.1)\n",
      "Requirement already satisfied: sympy==1.13.1 in c:\\users\\iment\\appdata\\local\\programs\\python\\python310\\lib\\site-packages (from torch) (1.13.1)\n",
      "Requirement already satisfied: mpmath<1.4,>=1.1.0 in c:\\users\\iment\\appdata\\local\\programs\\python\\python310\\lib\\site-packages (from sympy==1.13.1->torch) (1.3.0)\n",
      "Requirement already satisfied: MarkupSafe>=2.0 in c:\\users\\iment\\appdata\\local\\programs\\python\\python310\\lib\\site-packages (from jinja2->torch) (2.0.1)\n",
      "Note: you may need to restart the kernel to use updated packages.\n"
     ]
    },
    {
     "name": "stderr",
     "output_type": "stream",
     "text": [
      "\n",
      "[notice] A new release of pip is available: 24.3.1 -> 25.0.1\n",
      "[notice] To update, run: python.exe -m pip install --upgrade pip\n"
     ]
    }
   ],
   "source": [
    "##pip install torch"
   ]
  },
  {
   "cell_type": "code",
   "execution_count": 1,
   "id": "f45203a6-8d3d-4ed1-a66e-56e7f308ff83",
   "metadata": {},
   "outputs": [],
   "source": [
    "import pandas as pd\n",
    "import torch\n",
    "import torch.nn as nn\n",
    "import torch.optim as optim\n",
    "from torch.utils.data import DataLoader, TensorDataset\n",
    "import numpy as np\n",
    "from sklearn.preprocessing import StandardScaler\n",
    "import torch.nn.functional as F\n",
    "\n",
    "from sklearn.model_selection import train_test_split\n",
    "import matplotlib.pyplot as plt"
   ]
  },
  {
   "cell_type": "markdown",
   "id": "d44fb534-137a-4708-ab2c-11c5c25f5d0e",
   "metadata": {},
   "source": [
    "### DATASET"
   ]
  },
  {
   "cell_type": "code",
   "execution_count": 38,
   "id": "412d3b4f-f1d2-4f0d-93a3-d1a9b3565910",
   "metadata": {},
   "outputs": [
    {
     "name": "stdout",
     "output_type": "stream",
     "text": [
      "   Unnamed: 0  Zaman  Maxell     GP  Fujitsu  Duracell\n",
      "0         NaN    0.0   3.307  3.301    3.287     3.238\n",
      "1         NaN    0.0   3.307  3.301    3.287     3.238\n",
      "2         NaN    1.0   3.307  3.301    3.287     3.240\n",
      "3         NaN    3.0   3.112  3.035    3.091     3.071\n",
      "4         NaN    5.0   3.066  3.015    3.051     3.039\n"
     ]
    }
   ],
   "source": [
    "# Load the Excel file\n",
    "file_path = 'pil_test.xlsx'  # Update the path if the file is located elsewhere\n",
    "df = pd.read_excel(file_path)\n",
    "\n",
    "# Check the first few rows of the data to ensure it's loaded correctly\n",
    "print(df.head())"
   ]
  },
  {
   "cell_type": "markdown",
   "id": "3ef6126d-bda5-449b-beb3-188fe9fdd48b",
   "metadata": {},
   "source": [
    "### PREPROCESSING"
   ]
  },
  {
   "cell_type": "markdown",
   "id": "2ce9f306-fc82-4adf-a2f5-1a76a59aae78",
   "metadata": {},
   "source": [
    "fill null values"
   ]
  },
  {
   "cell_type": "code",
   "execution_count": 39,
   "id": "3ccb47f2-2f5c-46db-a8a2-ac2ca1865e67",
   "metadata": {},
   "outputs": [
    {
     "name": "stdout",
     "output_type": "stream",
     "text": [
      "Unnamed: 0    6370\n",
      "Zaman          315\n",
      "Maxell         317\n",
      "GP             315\n",
      "Fujitsu          0\n",
      "Duracell       372\n",
      "dtype: int64\n"
     ]
    }
   ],
   "source": [
    "print(df.isna().sum())"
   ]
  },
  {
   "cell_type": "code",
   "execution_count": 40,
   "id": "fc5301b9-a5aa-4f53-8077-77264522f09b",
   "metadata": {},
   "outputs": [
    {
     "name": "stdout",
     "output_type": "stream",
     "text": [
      "Number of rows remaining: 6370\n"
     ]
    }
   ],
   "source": [
    "print(f\"Number of rows remaining: {df.shape[0]}\")"
   ]
  },
  {
   "cell_type": "code",
   "execution_count": 41,
   "id": "e366e4de-ec8e-49b7-801e-f312da11a0a7",
   "metadata": {},
   "outputs": [
    {
     "name": "stdout",
     "output_type": "stream",
     "text": [
      "Zaman       315\n",
      "Maxell      317\n",
      "GP          315\n",
      "Fujitsu       0\n",
      "Duracell    372\n",
      "dtype: int64\n"
     ]
    }
   ],
   "source": [
    "df = df.drop(columns=['Unnamed: 0'])\n",
    "\n",
    "\n",
    "print(df.isna().sum())"
   ]
  },
  {
   "cell_type": "code",
   "execution_count": 184,
   "id": "1c97fb32-e7a1-49f4-92e7-9addf183b373",
   "metadata": {},
   "outputs": [
    {
     "name": "stdout",
     "output_type": "stream",
     "text": [
      "Number of rows remaining: (6370, 5)\n",
      "      Zaman  Maxell     GP  Fujitsu  Duracell\n",
      "0       0.0   3.307  3.301    3.287     3.238\n",
      "1       0.0   3.307  3.301    3.287     3.238\n",
      "2       1.0   3.307  3.301    3.287     3.240\n",
      "3       3.0   3.112  3.035    3.091     3.071\n",
      "4       5.0   3.066  3.015    3.051     3.039\n",
      "...     ...     ...    ...      ...       ...\n",
      "6365    NaN     NaN    NaN    1.804       NaN\n",
      "6366    NaN     NaN    NaN    1.802       NaN\n",
      "6367    NaN     NaN    NaN    1.803       NaN\n",
      "6368    NaN     NaN    NaN    1.802       NaN\n",
      "6369    NaN     NaN    NaN    1.800       NaN\n",
      "\n",
      "[6370 rows x 5 columns]\n"
     ]
    }
   ],
   "source": [
    "print(f\"Number of rows remaining: {df.shape}\")\n",
    "print(df)\n"
   ]
  },
  {
   "cell_type": "code",
   "execution_count": 43,
   "id": "e911dfdd-f315-4387-8663-bb7fc0d05079",
   "metadata": {},
   "outputs": [
    {
     "name": "stdout",
     "output_type": "stream",
     "text": [
      "\n",
      "Custom Increment for Zaman:\n",
      "        Zaman  Maxell     GP  Fujitsu  Duracell\n",
      "0         0.0   3.307  3.301    3.287     3.238\n",
      "1         0.0   3.307  3.301    3.287     3.238\n",
      "2         1.0   3.307  3.301    3.287     3.240\n",
      "3         3.0   3.112  3.035    3.091     3.071\n",
      "4         5.0   3.066  3.015    3.051     3.039\n",
      "...       ...     ...    ...      ...       ...\n",
      "6365  12752.0     NaN    NaN    1.804       NaN\n",
      "6366  12754.0     NaN    NaN    1.802       NaN\n",
      "6367  12756.0     NaN    NaN    1.803       NaN\n",
      "6368  12758.0     NaN    NaN    1.802       NaN\n",
      "6369  12760.0     NaN    NaN    1.800       NaN\n",
      "\n",
      "[6370 rows x 5 columns]\n"
     ]
    }
   ],
   "source": [
    "import numpy as np\n",
    "\n",
    "# Make a copy of the dataframe\n",
    "df_interp = df.copy()\n",
    "\n",
    "# Check if there are any NaN values in 'Zaman'\n",
    "if df_interp['Zaman'].isna().any():\n",
    "    # Get the last non-null value in 'Zaman'\n",
    "    last_valid_value = df_interp['Zaman'].ffill().iloc[-1]\n",
    "    \n",
    "    # Identify NaN rows in 'Zaman' column\n",
    "    nan_mask = df_interp['Zaman'].isna()\n",
    "    nan_indices = df_interp.index[nan_mask]\n",
    "    num_nans = len(nan_indices)\n",
    "    \n",
    "    # Generate the sequence starting from last_valid_value + 2 with step 2\n",
    "    fill_values = np.arange(last_valid_value + 2, \n",
    "                          last_valid_value + 2 + 2*num_nans, \n",
    "                          2)\n",
    "    \n",
    "    # Fill the NaN values\n",
    "    df_interp.loc[nan_indices, 'Zaman'] = fill_values\n",
    "    \n",
    "    print(\"\\nCustom Increment for Zaman:\")\n",
    "    print(df_interp)\n",
    "else:\n",
    "    print(\"No NaN values found in 'Zaman' column\")"
   ]
  },
  {
   "cell_type": "code",
   "execution_count": 185,
   "id": "5b140795-d569-406b-bb9d-772063fc1614",
   "metadata": {},
   "outputs": [
    {
     "data": {
      "image/png": "[encoded data removed]",
      "text/plain": [
       "<Figure size 1400x700 with 4 Axes>"
      ]
     },
     "metadata": {},
     "output_type": "display_data"
    }
   ],
   "source": [
    "import matplotlib.pyplot as plt\n",
    "import seaborn as sns\n",
    "\n",
    "def data_plot(df):\n",
    "    # Make a copy\n",
    "    df_plot = df.copy()\n",
    "\n",
    "    # Set 'zaman' as the x-axis\n",
    "    x = df_plot['Zaman']\n",
    "    df_plot = df_plot.drop(columns=['Zaman'])  # Only battery columns now\n",
    "\n",
    "    ncols = 2\n",
    "    nrows = (df_plot.shape[1] + ncols - 1) // ncols  # Better way to calculate rows\n",
    "\n",
    "    fig, axes = plt.subplots(nrows=nrows, ncols=ncols, figsize=(14, 7), sharex=True)\n",
    "\n",
    "    axes = axes.flatten()  # Flatten in case of (2,2) axes array\n",
    "\n",
    "    for i, col in enumerate(df_plot.columns):\n",
    "        sns.lineplot(x=x, y=df_plot[col], ax=axes[i])\n",
    "        axes[i].set_title(col)\n",
    "        axes[i].tick_params(axis=\"x\", rotation=30)\n",
    "\n",
    "    # Hide empty plots if any\n",
    "    for j in range(i+1, len(axes)):\n",
    "        axes[j].set_visible(False)\n",
    "\n",
    "    fig.tight_layout()\n",
    "    plt.show()\n",
    "\n",
    "# Call the function\n",
    "data_plot(df_interp)"
   ]
  },
  {
   "cell_type": "code",
   "execution_count": 44,
   "id": "d678d10d-81a0-4d19-a0de-dade05893221",
   "metadata": {},
   "outputs": [
    {
     "name": "stdout",
     "output_type": "stream",
     "text": [
      "Last 5 rows BEFORE filling NaNs:\n",
      "        Zaman  Maxell  GP  Fujitsu  Duracell\n",
      "6365  12752.0     NaN NaN    1.804       NaN\n",
      "6366  12754.0     NaN NaN    1.802       NaN\n",
      "6367  12756.0     NaN NaN    1.803       NaN\n",
      "6368  12758.0     NaN NaN    1.802       NaN\n",
      "6369  12760.0     NaN NaN    1.800       NaN\n"
     ]
    }
   ],
   "source": [
    "print(\"Last 5 rows BEFORE filling NaNs:\")\n",
    "print(df_interp.tail())"
   ]
  },
  {
   "cell_type": "code",
   "execution_count": 45,
   "id": "237b24c4-62c5-4951-82b2-b4b673f1e149",
   "metadata": {},
   "outputs": [],
   "source": [
    "def extract_timeseries(df, brand):\n",
    "    if 'Zaman' not in df.columns:\n",
    "        raise ValueError(\"Missing 'Zaman' column.\")\n",
    "    if brand not in df.columns:\n",
    "        raise ValueError(f\"'{brand}' not found in dataframe.\")\n",
    "    # return df[['Zaman', bbrand]].copy()\n",
    "\n",
    "    cleaned_df = df[['Zaman', brand]].dropna()\n",
    "    x = cleaned_df['Zaman'].copy()  # Time values\n",
    "    y = cleaned_df[brand].copy()    # Brand values\n",
    "    return x, y\n"
   ]
  },
  {
   "cell_type": "code",
   "execution_count": 186,
   "id": "b87fd342-5cf7-4592-bc7a-86a620d0444f",
   "metadata": {},
   "outputs": [],
   "source": [
    "# x,y = extract_timeseries(df_interp, 'Duracell')\n",
    "# import matplotlib.pyplot as plt\n",
    "\n",
    "# plt.plot(x, y, label='Duracell')\n",
    "# plt.xlabel('Zaman')\n",
    "# plt.ylabel('Voltage')\n",
    "# plt.title('Duracell Voltage Over Time')\n",
    "# plt.grid(True)\n",
    "# plt.legend()\n",
    "# plt.show()"
   ]
  },
  {
   "cell_type": "code",
   "execution_count": 72,
   "id": "c0298d9f-3900-4599-ac13-a9a8d701c192",
   "metadata": {},
   "outputs": [
    {
     "name": "stdout",
     "output_type": "stream",
     "text": [
      "(18478,)\n"
     ]
    }
   ],
   "source": [
    "x_maxell, y_maxell = extract_timeseries(df_interp, 'Maxell')\n",
    "x_gp, y_gp = extract_timeseries(df_interp, 'GP')\n",
    "x_fujitsu, y_fujitsu = extract_timeseries(df_interp, 'Fujitsu')\n",
    "x_duracell, y_duracell = extract_timeseries(df_interp, 'Duracell')\n",
    "\n",
    "\n",
    "y_combined = np.concatenate([y_maxell, y_gp, y_fujitsu])\n",
    "print(y_combined.shape)\n"
   ]
  },
  {
   "cell_type": "code",
   "execution_count": 190,
   "id": "f20f10e6-ca00-42d2-990d-e543adb84dda",
   "metadata": {},
   "outputs": [
    {
     "name": "stdout",
     "output_type": "stream",
     "text": [
      "18478\n",
      "18478\n"
     ]
    }
   ],
   "source": [
    "import numpy as np\n",
    "\n",
    "# Get the current length of x_maxell and y_combined\n",
    "len_x_maxell = len(x_maxell)\n",
    "len_y_combined = len(y_combined)\n",
    "\n",
    "# If x_maxell is shorter than y_combined, extend it\n",
    "if len_x_maxell < len_y_combined:\n",
    "    # Use .iloc to get the last value of x_maxell regardless of its index\n",
    "    last_value = x_maxell.iloc[-1]  # Get the last value of x_maxell\n",
    "    \n",
    "    # Create a list to store the additional values\n",
    "    additional_values = []\n",
    "    \n",
    "    # Use a for loop to add the required number of values, incremented by 2\n",
    "    for i in range(len_x_maxell, len_y_combined):\n",
    "        last_value += 2\n",
    "        additional_values.append(last_value)\n",
    "    \n",
    "    # Create x_combined by concatenating x_maxell and the additional values\n",
    "    x_combined = np.concatenate([x_maxell.values, np.array(additional_values)])\n",
    "\n",
    "\n",
    "# Now x_maxell should have the same length as y_combined\n",
    "print(len(x_combined))\n",
    "print(len(y_combined))"
   ]
  },
  {
   "cell_type": "code",
   "execution_count": 188,
   "id": "55ba05be-4781-4b4d-9898-32646836b08f",
   "metadata": {},
   "outputs": [
    {
     "name": "stdout",
     "output_type": "stream",
     "text": [
      "NaN in x_combined: 0\n",
      "NaN in y_combined: 0\n"
     ]
    }
   ],
   "source": [
    "print(\"NaN in x_combined:\", np.isnan(x_combined).sum())\n",
    "print(\"NaN in y_combined:\", np.isnan(y_combined).sum())"
   ]
  },
  {
   "cell_type": "code",
   "execution_count": 87,
   "id": "d38aa89a-cbd6-40ef-9bff-f2b851a8c318",
   "metadata": {},
   "outputs": [],
   "source": [
    "\n",
    "test_brand = 'Duracell'\n",
    "\n",
    "x_test_all = []\n",
    "y_test_all = []\n",
    "\n",
    "\n",
    "\n",
    "# Loop through the test brand (Duracell) and extract its data\n",
    "x_test, y_test = extract_timeseries(df_interp, test_brand)\n",
    "x_test_all.extend(x_test)\n",
    "y_test_all.extend(y_test)\n",
    "\n"
   ]
  },
  {
   "cell_type": "code",
   "execution_count": 77,
   "id": "4eb43d88-676a-4452-bf75-44e05b8cc15d",
   "metadata": {},
   "outputs": [],
   "source": [
    "\n",
    "from sklearn.model_selection import train_test_split\n",
    "# Split the training data into training and validation sets (80% train, 20% val)\n",
    "x_train, x_val, y_train, y_val = train_test_split(\n",
    "    x_combined, y_combined, test_size=0.2, shuffle=False\n",
    ")\n"
   ]
  },
  {
   "cell_type": "code",
   "execution_count": 86,
   "id": "0e5f1798-ad6d-4c3f-a097-7ab214f64398",
   "metadata": {},
   "outputs": [
    {
     "data": {
      "image/png": "[encoded data removed]",
      "text/plain": [
       "<Figure size 1800x600 with 3 Axes>"
      ]
     },
     "metadata": {},
     "output_type": "display_data"
    }
   ],
   "source": [
    "import matplotlib.pyplot as plt\n",
    "\n",
    "# Plot the training, validation, and test data\n",
    "plt.figure(figsize=(18, 6))\n",
    "\n",
    "# Plot the voltage sequence for the first sample from x_train_split\n",
    "plt.subplot(1, 3, 1)  # Create a subplot for the first plot (left)\n",
    "plt.plot(x_train, y_train, label='Voltage over Time (Train)', color='blue')\n",
    "plt.title(f\"Training Sample - Voltage over Time\")\n",
    "plt.xlabel(\"Time Step\")\n",
    "plt.ylabel(\"Voltage / Target Value\")\n",
    "plt.legend()\n",
    "plt.grid(True)\n",
    "\n",
    "# Plot the validation data\n",
    "plt.subplot(1, 3, 2)  # Create a subplot for the second plot (middle)\n",
    "plt.plot(x_val, y_val, label='Voltage over Time (Validation)', color='orange')\n",
    "plt.title(f\"Validation Sample - Voltage over Time\")\n",
    "plt.xlabel(\"Time Step\")\n",
    "plt.ylabel(\"Voltage / Target Value\")\n",
    "plt.legend()\n",
    "plt.grid(True)\n",
    "\n",
    "# Plot the test data\n",
    "plt.subplot(1, 3, 3)  # Create a subplot for the third plot (right)\n",
    "plt.plot(x_test, y_test, label='Voltage over Time (Test)', color='green')  # Plot the first test sample\n",
    "plt.title(f\"Test Sample - Voltage over Time\")\n",
    "plt.xlabel(\"Time Step\")\n",
    "plt.ylabel(\"Voltage / Target Value\")\n",
    "plt.legend()\n",
    "plt.grid(True)\n",
    "\n",
    "# Show all plots\n",
    "plt.tight_layout()\n",
    "plt.show()\n"
   ]
  },
  {
   "cell_type": "code",
   "execution_count": 90,
   "id": "4ca21ba2-fb7b-4568-8823-9c688ba571f6",
   "metadata": {},
   "outputs": [
    {
     "name": "stdout",
     "output_type": "stream",
     "text": [
      "Training data: torch.Size([14782]), torch.Size([14782])\n",
      "Validation data: torch.Size([3696]), torch.Size([3696])\n",
      "Test data: torch.Size([5998]), torch.Size([5998])\n"
     ]
    }
   ],
   "source": [
    "\n",
    "# Convert to torch tensors for model input\n",
    "x_train_tensor = torch.tensor(x_train, dtype=torch.float32)\n",
    "y_train_tensor = torch.tensor(y_train, dtype=torch.float32)\n",
    "x_val_tensor = torch.tensor(x_val, dtype=torch.float32)\n",
    "y_val_tensor = torch.tensor(y_val, dtype=torch.float32)\n",
    "x_test_tensor = torch.tensor(x_test, dtype=torch.float32)\n",
    "y_test_tensor = torch.tensor(y_test, dtype=torch.float32)\n",
    "\n",
    "print(f\"Training data: {x_train_tensor.shape}, {y_train_tensor.shape}\")\n",
    "print(f\"Validation data: {x_val_tensor.shape}, {y_val_tensor.shape}\")\n",
    "print(f\"Test data: {x_test_tensor.shape}, {y_test_tensor.shape}\")"
   ]
  },
  {
   "cell_type": "code",
   "execution_count": 98,
   "id": "dc397639-ddc7-462e-aa84-92faac9a9773",
   "metadata": {
    "scrolled": true
   },
   "outputs": [],
   "source": [
    "# import datetime\n",
    "\n",
    "\n",
    "# time_data_as_timestamp = [str(datetime.timedelta(seconds=int(time))) for time in x_train_split]\n",
    "# print(time_data_as_timestamp) "
   ]
  },
  {
   "cell_type": "code",
   "execution_count": 170,
   "id": "8c251822-15ae-4a2e-bd63-8e6112434e2f",
   "metadata": {},
   "outputs": [
    {
     "name": "stdout",
     "output_type": "stream",
     "text": [
      "x_train_tensor_reshaped shape: torch.Size([220, 67, 1])\n",
      "y_train_tensor_reshaped shape: torch.Size([220, 1])\n",
      "x_test_tensor_reshaped shape: torch.Size([89, 67, 1])\n",
      "y_test_tensor_reshaped shape: torch.Size([89, 1])\n"
     ]
    }
   ],
   "source": [
    "import torch\n",
    "\n",
    "def reshape_data(x_tensor, y_tensor, sequence_length):\n",
    "    \"\"\"\n",
    "    Reshapes the data into the desired shape (N, 1, sequence_length) for input data \n",
    "    and (N, 1) for the labels, where N is the number of samples.\n",
    "\n",
    "    Args:\n",
    "    - x_tensor (torch.Tensor): 1D input data tensor (e.g., shape [18478]).\n",
    "    - y_tensor (torch.Tensor): 1D labels tensor.\n",
    "    - sequence_length (int): The sequence length (e.g., 67).\n",
    "\n",
    "    Returns:\n",
    "    - reshaped_x (torch.Tensor): Reshaped input data tensor (N, 1, sequence_length).\n",
    "    - reshaped_y (torch.Tensor): Reshaped labels tensor (N, 1).\n",
    "    \"\"\"\n",
    "    # Calculate number of samples that can be created from the data\n",
    "    num_samples = x_tensor.shape[0] // sequence_length\n",
    "\n",
    "    # Reshape input data\n",
    "    reshaped_x = x_tensor[:num_samples * sequence_length].reshape(num_samples,sequence_length, 1)\n",
    "\n",
    "    # Reshape labels\n",
    "    reshaped_y = y_tensor[:num_samples].view(-1, 1)\n",
    "\n",
    "    return reshaped_x, reshaped_y\n",
    "\n",
    "\n",
    "# Reshape train and test data\n",
    "x_train_tensor_reshaped, y_train_tensor_reshaped = reshape_data(x_train_tensor, y_train_tensor, sequence_length=67)\n",
    "x_test_tensor_reshaped, y_test_tensor_reshaped = reshape_data(x_test_tensor, y_test_tensor, sequence_length=67)\n",
    "\n",
    "# Check the shapes\n",
    "print(f\"x_train_tensor_reshaped shape: {x_train_tensor_reshaped.shape}\")  # Should be (num_samples, 1, 67)\n",
    "print(f\"y_train_tensor_reshaped shape: {y_train_tensor_reshaped.shape}\")  # Should be (num_samples, 1)\n",
    "print(f\"x_test_tensor_reshaped shape: {x_test_tensor_reshaped.shape}\")    # Should be (num_samples, 1, 67)\n",
    "print(f\"y_test_tensor_reshaped shape: {y_test_tensor_reshaped.shape}\")    # Should be (num_samples, 1)\n"
   ]
  },
  {
   "cell_type": "code",
   "execution_count": 163,
   "id": "facb11f1-2d41-433e-9f3c-a36d222f1404",
   "metadata": {},
   "outputs": [
    {
     "name": "stdout",
     "output_type": "stream",
     "text": [
      "Batch x shape: torch.Size([32, 67, 1])\n",
      "Batch y shape: torch.Size([32, 1])\n"
     ]
    }
   ],
   "source": [
    "train_dataset = TensorDataset(x_train_tensor_reshaped, y_train_tensor_reshaped)\n",
    "test_dataset = TensorDataset(x_test_tensor_reshaped, y_test_tensor_reshaped)\n",
    "\n",
    "# Create DataLoader for batching\n",
    "batch_size = 32  # You can change the batch size as needed\n",
    "train_loader = DataLoader(train_dataset, batch_size=batch_size, shuffle=True)\n",
    "test_loader = DataLoader(test_dataset, batch_size=batch_size, shuffle=False)\n",
    "\n",
    "# Check the shapes of the first batch\n",
    "for batch_x, batch_y in train_loader:\n",
    "    print(f\"Batch x shape: {batch_x.shape}\")  # Should be [batch_size, 67, 1]\n",
    "    print(f\"Batch y shape: {batch_y.shape}\")  # Should be [batch_size, 1]\n",
    "    break  # Only print the first batch for inspection"
   ]
  },
  {
   "cell_type": "code",
   "execution_count": 133,
   "id": "fd8e8755-7fa6-47ea-9de9-9716c446c102",
   "metadata": {},
   "outputs": [],
   "source": [
    "# zero_count = (x_sequences == 0).sum().item()\n",
    "# total_count = x_sequences.numel()\n",
    "# print(f\"Zero count: {zero_count} / {total_count} ({100 * zero_count / total_count:.2f}%)\")"
   ]
  },
  {
   "cell_type": "markdown",
   "id": "8d9fb8be-8a7b-4612-aeb3-06b74682d5fc",
   "metadata": {},
   "source": [
    "### MODEL"
   ]
  },
  {
   "cell_type": "code",
   "execution_count": 156,
   "id": "915ad2ac-6ae9-441f-8b6c-76524a2238a0",
   "metadata": {},
   "outputs": [
    {
     "data": {
      "text/plain": [
       "SOHMode(\n",
       "  (pre_net): Linear(in_features=67, out_features=512, bias=True)\n",
       "  (backbone): LSTM(\n",
       "    (net): LSTM(4, 128, num_layers=2, batch_first=True)\n",
       "    (predictor): Sequential(\n",
       "      (0): Linear(in_features=128, out_features=64, bias=True)\n",
       "      (1): LeakyReLU(negative_slope=0.01)\n",
       "      (2): Linear(in_features=64, out_features=1, bias=True)\n",
       "    )\n",
       "  )\n",
       "  (mse): MSELoss()\n",
       ")"
      ]
     },
     "execution_count": 156,
     "metadata": {},
     "output_type": "execute_result"
    }
   ],
   "source": [
    "\n",
    "PATH = 'LSTM_model.pth'  # Path to the saved weights\n",
    "model = torch.load(PATH, map_location=torch.device('cpu'))\n",
    "\n",
    "# Set the model to evaluation mode\n",
    "model.eval()\n",
    "\n",
    "\n"
   ]
  },
  {
   "cell_type": "code",
   "execution_count": null,
   "id": "acac351d-4bf6-4a69-90c5-4ee49a348962",
   "metadata": {},
   "outputs": [],
   "source": []
  },
  {
   "cell_type": "code",
   "execution_count": 171,
   "id": "f96117eb-2d70-4e8c-a0ef-4d1863ce914f",
   "metadata": {},
   "outputs": [],
   "source": [
    "class ModifiedModel(torch.nn.Module):\n",
    "    def __init__(self, base_model):\n",
    "        super().__init__()\n",
    "        self.pre_net = base_model.pre_net\n",
    "        self.backbone = base_model.backbone\n",
    "        self.args = base_model.args\n",
    "\n",
    "        # --- Monkey patch backbone forward ---\n",
    "        self.backbone.forward = self.modified_backbone_forward\n",
    "\n",
    "    def modified_backbone_forward(self, x):\n",
    "        \"\"\"\n",
    "        Custom forward pass for the backbone (LSTM).\n",
    "        x shape: [batch_size, sequence_length, input_size]\n",
    "        \"\"\"\n",
    "        # Transform x to the correct shape for LSTM input (e.g., [batch_size, sequence_length, 4])\n",
    "        x = x.repeat(1, 1, 4)  # Replicating the feature dimension to match input_size of 4 for LSTM\n",
    "        x = x.transpose(1, 2)  # Transpose to shape [batch_size, 4, sequence_length]\n",
    "\n",
    "        # LSTM forward pass\n",
    "        embed, (_, _) = self.backbone.net(x)  # Assuming backbone has a net (like LSTM)\n",
    "        out = embed[:, -1, :]  # Get the output of the last timestep\n",
    "        pred = self.backbone.predictor(out)  # Pass it through the predictor layer\n",
    "        return pred\n",
    "\n",
    "    def forward(self, x):\n",
    "        # Handle input shape [batch_size, sequence_length, 1] for the pre_net\n",
    "        if self.args.input_type == 'handcraft_features':\n",
    "            x = x.squeeze(2)  # Remove the last dimension (1)\n",
    "            x = self.pre_net(x)  # Pass through the pre_net (Linear layer)\n",
    "            x = x.unsqueeze(1)  # Add a new dimension for compatibility with LSTM (e.g., [batch_size, 1, 512])\n",
    "\n",
    "        # Now x is in the right shape for the backbone (LSTM)\n",
    "        out = self.backbone(x)\n",
    "        return out\n"
   ]
  },
  {
   "cell_type": "code",
   "execution_count": 172,
   "id": "70d403aa-8f88-4d9e-bfed-adad1b7a478a",
   "metadata": {},
   "outputs": [],
   "source": [
    "# model.pre_net = nn.Linear(1, 67)  # The input to pre_net should match the number of features in your data\n",
    "\n",
    "# # Modify the LSTM layer if necessary (usually the hidden_size and num_layers remain unchanged)\n",
    "# # Assuming your LSTM has been defined as LSTM(4, 128, num_layers=2, batch_first=True), \n",
    "# # we might need to adjust the input size depending on the pre_net output.\n",
    "# model.backbone.net = nn.LSTM(67, 128, num_layers=2, batch_first=True)"
   ]
  },
  {
   "cell_type": "code",
   "execution_count": 173,
   "id": "d77c251d-a819-4333-94ba-ba148af097fb",
   "metadata": {},
   "outputs": [
    {
     "data": {
      "text/plain": [
       "ModifiedModel(\n",
       "  (pre_net): Linear(in_features=67, out_features=512, bias=True)\n",
       "  (backbone): LSTM(\n",
       "    (net): LSTM(4, 128, num_layers=2, batch_first=True)\n",
       "    (predictor): Sequential(\n",
       "      (0): Linear(in_features=128, out_features=64, bias=True)\n",
       "      (1): LeakyReLU(negative_slope=0.01)\n",
       "      (2): Linear(in_features=64, out_features=1, bias=True)\n",
       "    )\n",
       "  )\n",
       ")"
      ]
     },
     "execution_count": 173,
     "metadata": {},
     "output_type": "execute_result"
    }
   ],
   "source": [
    "model.eval()"
   ]
  },
  {
   "cell_type": "code",
   "execution_count": null,
   "id": "2599f35e-0358-4c20-bbc7-05ae3e977b8f",
   "metadata": {},
   "outputs": [],
   "source": []
  },
  {
   "cell_type": "code",
   "execution_count": 174,
   "id": "322e5eb8-702a-4740-b9f4-411ed6eb1719",
   "metadata": {},
   "outputs": [],
   "source": [
    "criterion = nn.MSELoss()  # or model.mse if it's already there\n",
    "optimizer = optim.Adam(model.parameters(), lr=0.00005)"
   ]
  },
  {
   "cell_type": "markdown",
   "id": "92cdd5a9-08c3-477b-ba6b-f8cdbcbf972e",
   "metadata": {},
   "source": [
    "## calculatin metrics with non in built functions "
   ]
  },
  {
   "cell_type": "code",
   "execution_count": 178,
   "id": "4fab63fc-ae69-4945-ae00-13a953a0406f",
   "metadata": {},
   "outputs": [],
   "source": [
    "# for param in backbone.net.parameters():\n",
    "#     param.requires_grad = False"
   ]
  },
  {
   "cell_type": "code",
   "execution_count": 176,
   "id": "04d01535-4169-45fe-b420-eb4820848c28",
   "metadata": {},
   "outputs": [
    {
     "ename": "RuntimeError",
     "evalue": "mat1 and mat2 shapes cannot be multiplied (14740x1 and 67x512)",
     "output_type": "error",
     "traceback": [
      "\u001b[1;31m---------------------------------------------------------------------------\u001b[0m",
      "\u001b[1;31mRuntimeError\u001b[0m                              Traceback (most recent call last)",
      "Cell \u001b[1;32mIn[176], line 19\u001b[0m\n\u001b[0;32m     16\u001b[0m optimizer\u001b[38;5;241m.\u001b[39mzero_grad()\n\u001b[0;32m     18\u001b[0m \u001b[38;5;66;03m# Forward pass\u001b[39;00m\n\u001b[1;32m---> 19\u001b[0m y_pred \u001b[38;5;241m=\u001b[39m \u001b[43mmodel\u001b[49m\u001b[43m(\u001b[49m\u001b[43mx_train_tensor_reshaped\u001b[49m\u001b[43m)\u001b[49m  \u001b[38;5;66;03m# x_train_tensor1 has shape [250, 4, 5]\u001b[39;00m\n\u001b[0;32m     21\u001b[0m \u001b[38;5;66;03m# Ensure y_pred has shape [250], matching the target shape\u001b[39;00m\n\u001b[0;32m     22\u001b[0m y_pred \u001b[38;5;241m=\u001b[39m y_pred\u001b[38;5;241m.\u001b[39msqueeze()  \u001b[38;5;66;03m# Remove extra dimensions (shape should become [250])\u001b[39;00m\n",
      "File \u001b[1;32m~\\AppData\\Local\\Programs\\Python\\Python310\\lib\\site-packages\\torch\\nn\\modules\\module.py:1130\u001b[0m, in \u001b[0;36mModule._call_impl\u001b[1;34m(self, *input, **kwargs)\u001b[0m\n\u001b[0;32m   1126\u001b[0m \u001b[38;5;66;03m# If we don't have any hooks, we want to skip the rest of the logic in\u001b[39;00m\n\u001b[0;32m   1127\u001b[0m \u001b[38;5;66;03m# this function, and just call forward.\u001b[39;00m\n\u001b[0;32m   1128\u001b[0m \u001b[38;5;28;01mif\u001b[39;00m \u001b[38;5;129;01mnot\u001b[39;00m (\u001b[38;5;28mself\u001b[39m\u001b[38;5;241m.\u001b[39m_backward_hooks \u001b[38;5;129;01mor\u001b[39;00m \u001b[38;5;28mself\u001b[39m\u001b[38;5;241m.\u001b[39m_forward_hooks \u001b[38;5;129;01mor\u001b[39;00m \u001b[38;5;28mself\u001b[39m\u001b[38;5;241m.\u001b[39m_forward_pre_hooks \u001b[38;5;129;01mor\u001b[39;00m _global_backward_hooks\n\u001b[0;32m   1129\u001b[0m         \u001b[38;5;129;01mor\u001b[39;00m _global_forward_hooks \u001b[38;5;129;01mor\u001b[39;00m _global_forward_pre_hooks):\n\u001b[1;32m-> 1130\u001b[0m     \u001b[38;5;28;01mreturn\u001b[39;00m forward_call(\u001b[38;5;241m*\u001b[39m\u001b[38;5;28minput\u001b[39m, \u001b[38;5;241m*\u001b[39m\u001b[38;5;241m*\u001b[39mkwargs)\n\u001b[0;32m   1131\u001b[0m \u001b[38;5;66;03m# Do not call functions when jit is used\u001b[39;00m\n\u001b[0;32m   1132\u001b[0m full_backward_hooks, non_full_backward_hooks \u001b[38;5;241m=\u001b[39m [], []\n",
      "Cell \u001b[1;32mIn[157], line 26\u001b[0m, in \u001b[0;36mModifiedModel.forward\u001b[1;34m(self, x)\u001b[0m\n\u001b[0;32m     24\u001b[0m \u001b[38;5;28;01mif\u001b[39;00m \u001b[38;5;28mself\u001b[39m\u001b[38;5;241m.\u001b[39margs\u001b[38;5;241m.\u001b[39minput_type \u001b[38;5;241m==\u001b[39m \u001b[38;5;124m'\u001b[39m\u001b[38;5;124mhandcraft_features\u001b[39m\u001b[38;5;124m'\u001b[39m:\n\u001b[0;32m     25\u001b[0m     x \u001b[38;5;241m=\u001b[39m x\u001b[38;5;241m.\u001b[39msqueeze(\u001b[38;5;241m1\u001b[39m)           \u001b[38;5;66;03m# [batch, 67]\u001b[39;00m\n\u001b[1;32m---> 26\u001b[0m     x \u001b[38;5;241m=\u001b[39m \u001b[38;5;28;43mself\u001b[39;49m\u001b[38;5;241;43m.\u001b[39;49m\u001b[43mpre_net\u001b[49m\u001b[43m(\u001b[49m\u001b[43mx\u001b[49m\u001b[43m)\u001b[49m        \u001b[38;5;66;03m# [batch, 128]\u001b[39;00m\n\u001b[0;32m     27\u001b[0m     x \u001b[38;5;241m=\u001b[39m x\u001b[38;5;241m.\u001b[39munsqueeze(\u001b[38;5;241m1\u001b[39m)         \u001b[38;5;66;03m# [batch, 1, 128]\u001b[39;00m\n\u001b[0;32m     28\u001b[0m out \u001b[38;5;241m=\u001b[39m \u001b[38;5;28mself\u001b[39m\u001b[38;5;241m.\u001b[39mbackbone(x)\n",
      "File \u001b[1;32m~\\AppData\\Local\\Programs\\Python\\Python310\\lib\\site-packages\\torch\\nn\\modules\\module.py:1130\u001b[0m, in \u001b[0;36mModule._call_impl\u001b[1;34m(self, *input, **kwargs)\u001b[0m\n\u001b[0;32m   1126\u001b[0m \u001b[38;5;66;03m# If we don't have any hooks, we want to skip the rest of the logic in\u001b[39;00m\n\u001b[0;32m   1127\u001b[0m \u001b[38;5;66;03m# this function, and just call forward.\u001b[39;00m\n\u001b[0;32m   1128\u001b[0m \u001b[38;5;28;01mif\u001b[39;00m \u001b[38;5;129;01mnot\u001b[39;00m (\u001b[38;5;28mself\u001b[39m\u001b[38;5;241m.\u001b[39m_backward_hooks \u001b[38;5;129;01mor\u001b[39;00m \u001b[38;5;28mself\u001b[39m\u001b[38;5;241m.\u001b[39m_forward_hooks \u001b[38;5;129;01mor\u001b[39;00m \u001b[38;5;28mself\u001b[39m\u001b[38;5;241m.\u001b[39m_forward_pre_hooks \u001b[38;5;129;01mor\u001b[39;00m _global_backward_hooks\n\u001b[0;32m   1129\u001b[0m         \u001b[38;5;129;01mor\u001b[39;00m _global_forward_hooks \u001b[38;5;129;01mor\u001b[39;00m _global_forward_pre_hooks):\n\u001b[1;32m-> 1130\u001b[0m     \u001b[38;5;28;01mreturn\u001b[39;00m forward_call(\u001b[38;5;241m*\u001b[39m\u001b[38;5;28minput\u001b[39m, \u001b[38;5;241m*\u001b[39m\u001b[38;5;241m*\u001b[39mkwargs)\n\u001b[0;32m   1131\u001b[0m \u001b[38;5;66;03m# Do not call functions when jit is used\u001b[39;00m\n\u001b[0;32m   1132\u001b[0m full_backward_hooks, non_full_backward_hooks \u001b[38;5;241m=\u001b[39m [], []\n",
      "File \u001b[1;32m~\\AppData\\Local\\Programs\\Python\\Python310\\lib\\site-packages\\torch\\nn\\modules\\linear.py:114\u001b[0m, in \u001b[0;36mLinear.forward\u001b[1;34m(self, input)\u001b[0m\n\u001b[0;32m    113\u001b[0m \u001b[38;5;28;01mdef\u001b[39;00m \u001b[38;5;21mforward\u001b[39m(\u001b[38;5;28mself\u001b[39m, \u001b[38;5;28minput\u001b[39m: Tensor) \u001b[38;5;241m-\u001b[39m\u001b[38;5;241m>\u001b[39m Tensor:\n\u001b[1;32m--> 114\u001b[0m     \u001b[38;5;28;01mreturn\u001b[39;00m \u001b[43mF\u001b[49m\u001b[38;5;241;43m.\u001b[39;49m\u001b[43mlinear\u001b[49m\u001b[43m(\u001b[49m\u001b[38;5;28;43minput\u001b[39;49m\u001b[43m,\u001b[49m\u001b[43m \u001b[49m\u001b[38;5;28;43mself\u001b[39;49m\u001b[38;5;241;43m.\u001b[39;49m\u001b[43mweight\u001b[49m\u001b[43m,\u001b[49m\u001b[43m \u001b[49m\u001b[38;5;28;43mself\u001b[39;49m\u001b[38;5;241;43m.\u001b[39;49m\u001b[43mbias\u001b[49m\u001b[43m)\u001b[49m\n",
      "\u001b[1;31mRuntimeError\u001b[0m: mat1 and mat2 shapes cannot be multiplied (14740x1 and 67x512)"
     ]
    }
   ],
   "source": [
    "import torch\n",
    "import torch.optim as optim\n",
    "import torch.nn as nn\n",
    "\n",
    "\n",
    "model.train()  # Set to training mode\n",
    "\n",
    "# Define the optimizer and loss function\n",
    "optimizer = optim.Adam(model.parameters(), lr=1e-3)\n",
    "loss_function = nn.MSELoss()\n",
    "\n",
    "# Training loop\n",
    "num_epochs = 50  # You can adjust this\n",
    "for epoch in range(num_epochs):\n",
    "    # Zero the gradients before each batch\n",
    "    optimizer.zero_grad()\n",
    "    \n",
    "    # Forward pass\n",
    "    y_pred = model(x_train_tensor_reshaped)  # x_train_tensor1 has shape [250, 4, 5]\n",
    "    \n",
    "    # Ensure y_pred has shape [250], matching the target shape\n",
    "    y_pred = y_pred.squeeze()  # Remove extra dimensions (shape should become [250])\n",
    "    \n",
    "    # Calculate the loss\n",
    "    loss = loss_function(y_pred, y_train_tensor)  # y_train_tensor1 has shape [250]\n",
    "    \n",
    "    # Calculate additional metrics using PyTorch\n",
    "    mae = torch.mean(torch.abs(y_pred - y_train_tensor))  # Mean Absolute Error\n",
    "    rmse = torch.sqrt(torch.mean((y_pred - y_train_tensor) ** 2))  # Root Mean Squared Error\n",
    "    r2 = 1 - torch.sum((y_train_tensor - y_pred) ** 2) / torch.sum((y_train_tensor - torch.mean(y_train_tensor1)) ** 2)  # R²\n",
    "\n",
    "    # Backward pass\n",
    "    loss.backward()\n",
    "    \n",
    "    # Update the weights\n",
    "    optimizer.step()\n",
    "    \n",
    "    # Print the results for this epoch\n",
    "    print(f'Epoch [{epoch+1}/{num_epochs}], Loss: {loss.item():.4f}, MAE: {mae.item():.4f}, RMSE: {rmse.item():.4f}, R²: {r2.item():.4f}')\n",
    "\n",
    "    model.eval()  # Set to evaluation mode\n",
    "    \n",
    "    # Forward pass on the test (validation) data\n",
    "    with torch.no_grad():  # No gradient computation during validation\n",
    "        y_test_pred = model(x_test_tensor)  # x_test_tensor1 has shape [num_test_samples, 4, 5]\n",
    "        y_test_pred = y_test_pred.squeeze()  # Remove extra dimensions (shape should become [num_test_samples])\n",
    "\n",
    "        # Calculate validation loss\n",
    "        val_loss = loss_function(y_test_pred, y_test_tensor)\n",
    "        \n",
    "        # Calculate validation metrics (MAE, RMSE, R²)\n",
    "        mae_val = torch.mean(torch.abs(y_test_pred - y_test_tensor))\n",
    "        mse_val = torch.mean((y_test_pred - y_test_tensor1) ** 2)\n",
    "        rmse_val = torch.sqrt(mse_val)\n",
    "        ss_total = torch.sum((y_test_tensor1 - torch.mean(y_test_tensor)) ** 2)\n",
    "        ss_residual = torch.sum((y_test_tensor1 - y_test_pred) ** 2)\n",
    "        r2_val = 1 - (ss_residual / ss_total)\n",
    "\n",
    "    # Print training and validation results for the current epoch\n",
    "    print(f'Epoch [{epoch+1}/{num_epochs}]')\n",
    "    print(f'Training Loss: {loss.item():.4f}')\n",
    "    print(f'Validation Loss: {val_loss.item():.4f}')\n",
    "    print(f'Validation Metrics - MAE: {mae_val.item():.4f}, RMSE: {rmse_val.item():.4f}, R²: {r2_val.item():.4f}')\n",
    "# Once training is done, you can switch to eval mode for inference\n",
    "model.eval()\n"
   ]
  },
  {
   "cell_type": "code",
   "execution_count": 186,
   "id": "bb9b01c7-ad2c-4a0b-83a8-a4262465efcb",
   "metadata": {},
   "outputs": [
    {
     "name": "stdout",
     "output_type": "stream",
     "text": [
      "Test Metrics - MAE: 1.0047, RMSE: 1.0134, R²: -121.3117\n"
     ]
    }
   ],
   "source": [
    "y_test_pred = backbone(x_test_tensor1)  # x_test_tensor1 has shape [num_test_samples, 4, 5]\n",
    "\n",
    "# Ensure y_test_pred has shape [num_test_samples], matching the target shape\n",
    "y_test_pred = y_test_pred.squeeze()  # Remove extra dimensions (shape should become [num_test_samples])\n",
    "\n",
    "# Calculate the metrics for the test data\n",
    "# MAE (Mean Absolute Error)\n",
    "mae_test = torch.mean(torch.abs(y_test_pred - y_test_tensor1))\n",
    "\n",
    "# RMSE (Root Mean Squared Error)\n",
    "rmse_test = torch.sqrt(torch.mean((y_test_pred - y_test_tensor1) ** 2))\n",
    "\n",
    "# R² (Coefficient of Determination)\n",
    "r2_test = 1 - torch.sum((y_test_tensor1 - y_test_pred) ** 2) / torch.sum((y_test_tensor1 - torch.mean(y_test_tensor1)) ** 2)\n",
    "\n",
    "# Print the results for the test set\n",
    "print(f'Test Metrics - MAE: {mae_test.item():.4f}, RMSE: {rmse_test.item():.4f}, R²: {r2_test.item():.4f}')"
   ]
  },
  {
   "cell_type": "markdown",
   "id": "0ef18be6-ae58-4b5f-b547-d5234fafac3b",
   "metadata": {},
   "source": [
    "## calculatin metrics with in built functions"
   ]
  },
  {
   "cell_type": "code",
   "execution_count": 187,
   "id": "728881f6-31d7-467c-9c6b-f19ba306ad0d",
   "metadata": {
    "scrolled": true
   },
   "outputs": [
    {
     "name": "stdout",
     "output_type": "stream",
     "text": [
      "Epoch [1/50], Loss: 3.7888, MAE: 1.9126, RMSE: 1.9465, R²: -183.2070\n",
      "Epoch [2/50], Loss: 3.7514, MAE: 1.9026, RMSE: 1.9369, R²: -181.3869\n",
      "Epoch [3/50], Loss: 3.7135, MAE: 1.8925, RMSE: 1.9271, R²: -179.5468\n",
      "Epoch [4/50], Loss: 3.6753, MAE: 1.8822, RMSE: 1.9171, R²: -177.6851\n",
      "Epoch [5/50], Loss: 3.6365, MAE: 1.8717, RMSE: 1.9070, R²: -175.7991\n",
      "Epoch [6/50], Loss: 3.5971, MAE: 1.8610, RMSE: 1.8966, R²: -173.8832\n",
      "Epoch [7/50], Loss: 3.5571, MAE: 1.8502, RMSE: 1.8860, R²: -171.9382\n",
      "Epoch [8/50], Loss: 3.5166, MAE: 1.8391, RMSE: 1.8753, R²: -169.9703\n",
      "Epoch [9/50], Loss: 3.4757, MAE: 1.8280, RMSE: 1.8643, R²: -167.9821\n",
      "Epoch [10/50], Loss: 3.4343, MAE: 1.8166, RMSE: 1.8532, R²: -165.9706\n",
      "Epoch [11/50], Loss: 3.3924, MAE: 1.8051, RMSE: 1.8418, R²: -163.9329\n",
      "Epoch [12/50], Loss: 3.3498, MAE: 1.7933, RMSE: 1.8303, R²: -161.8637\n",
      "Epoch [13/50], Loss: 3.3068, MAE: 1.7813, RMSE: 1.8184, R²: -159.7694\n",
      "Epoch [14/50], Loss: 3.2631, MAE: 1.7691, RMSE: 1.8064, R²: -157.6474\n",
      "Epoch [15/50], Loss: 3.2188, MAE: 1.7567, RMSE: 1.7941, R²: -155.4910\n",
      "Epoch [16/50], Loss: 3.1738, MAE: 1.7441, RMSE: 1.7815, R²: -153.3061\n",
      "Epoch [17/50], Loss: 3.1285, MAE: 1.7312, RMSE: 1.7687, R²: -151.1007\n",
      "Epoch [18/50], Loss: 3.0826, MAE: 1.7182, RMSE: 1.7557, R²: -148.8736\n",
      "Epoch [19/50], Loss: 3.0364, MAE: 1.7050, RMSE: 1.7425, R²: -146.6238\n",
      "Epoch [20/50], Loss: 2.9896, MAE: 1.6915, RMSE: 1.7290, R²: -144.3489\n",
      "Epoch [21/50], Loss: 2.9422, MAE: 1.6778, RMSE: 1.7153, R²: -142.0460\n",
      "Epoch [22/50], Loss: 2.8941, MAE: 1.6638, RMSE: 1.7012, R²: -139.7057\n",
      "Epoch [23/50], Loss: 2.8453, MAE: 1.6496, RMSE: 1.6868, R²: -137.3356\n",
      "Epoch [24/50], Loss: 2.7961, MAE: 1.6351, RMSE: 1.6721, R²: -134.9397\n",
      "Epoch [25/50], Loss: 2.7464, MAE: 1.6204, RMSE: 1.6572, R²: -132.5248\n",
      "Epoch [26/50], Loss: 2.6964, MAE: 1.6055, RMSE: 1.6421, R²: -130.0956\n",
      "Epoch [27/50], Loss: 2.6462, MAE: 1.5904, RMSE: 1.6267, R²: -127.6526\n",
      "Epoch [28/50], Loss: 2.5956, MAE: 1.5751, RMSE: 1.6111, R²: -125.1963\n",
      "Epoch [29/50], Loss: 2.5449, MAE: 1.5595, RMSE: 1.5953, R²: -122.7275\n",
      "Epoch [30/50], Loss: 2.4938, MAE: 1.5438, RMSE: 1.5792, R²: -120.2454\n",
      "Epoch [31/50], Loss: 2.4425, MAE: 1.5278, RMSE: 1.5628, R²: -117.7504\n",
      "Epoch [32/50], Loss: 2.3909, MAE: 1.5116, RMSE: 1.5462, R²: -115.2402\n",
      "Epoch [33/50], Loss: 2.3389, MAE: 1.4952, RMSE: 1.5293, R²: -112.7115\n",
      "Epoch [34/50], Loss: 2.2867, MAE: 1.4785, RMSE: 1.5122, R²: -110.1754\n",
      "Epoch [35/50], Loss: 2.2344, MAE: 1.4616, RMSE: 1.4948, R²: -107.6324\n",
      "Epoch [36/50], Loss: 2.1820, MAE: 1.4445, RMSE: 1.4771, R²: -105.0832\n",
      "Epoch [37/50], Loss: 2.1294, MAE: 1.4272, RMSE: 1.4592, R²: -102.5281\n",
      "Epoch [38/50], Loss: 2.0767, MAE: 1.4096, RMSE: 1.4411, R²: -99.9658\n",
      "Epoch [39/50], Loss: 2.0238, MAE: 1.3918, RMSE: 1.4226, R²: -97.3927\n",
      "Epoch [40/50], Loss: 1.9708, MAE: 1.3737, RMSE: 1.4038, R²: -94.8148\n",
      "Epoch [41/50], Loss: 1.9177, MAE: 1.3554, RMSE: 1.3848, R²: -92.2376\n",
      "Epoch [42/50], Loss: 1.8648, MAE: 1.3368, RMSE: 1.3656, R²: -89.6612\n",
      "Epoch [43/50], Loss: 1.8118, MAE: 1.3180, RMSE: 1.3460, R²: -87.0847\n",
      "Epoch [44/50], Loss: 1.7588, MAE: 1.2990, RMSE: 1.3262, R²: -84.5082\n",
      "Epoch [45/50], Loss: 1.7057, MAE: 1.2796, RMSE: 1.3060, R²: -81.9306\n",
      "Epoch [46/50], Loss: 1.6526, MAE: 1.2599, RMSE: 1.2855, R²: -79.3478\n",
      "Epoch [47/50], Loss: 1.5991, MAE: 1.2398, RMSE: 1.2646, R²: -76.7480\n",
      "Epoch [48/50], Loss: 1.5453, MAE: 1.2192, RMSE: 1.2431, R²: -74.1296\n",
      "Epoch [49/50], Loss: 1.4916, MAE: 1.1983, RMSE: 1.2213, R²: -71.5172\n",
      "Epoch [50/50], Loss: 1.4383, MAE: 1.1772, RMSE: 1.1993, R²: -68.9294\n"
     ]
    },
    {
     "data": {
      "text/plain": [
       "LSTM(\n",
       "  (net): LSTM(4, 128, num_layers=2, batch_first=True)\n",
       "  (predictor): Sequential(\n",
       "    (0): Linear(in_features=128, out_features=64, bias=True)\n",
       "    (1): LeakyReLU(negative_slope=0.01)\n",
       "    (2): Linear(in_features=64, out_features=1, bias=True)\n",
       "  )\n",
       ")"
      ]
     },
     "execution_count": 187,
     "metadata": {},
     "output_type": "execute_result"
    }
   ],
   "source": [
    "import torch\n",
    "import torch.optim as optim\n",
    "import torch.nn as nn\n",
    "\n",
    "# Assuming model.backbone is the part you want to train\n",
    "backbone = model.backbone\n",
    "backbone.train()  # Set to training mode\n",
    "\n",
    "# Define the optimizer and loss function\n",
    "optimizer = optim.Adam(backbone.parameters(), lr=1e-3)\n",
    "loss_function = nn.MSELoss()\n",
    "\n",
    "# Training loop\n",
    "num_epochs = 50  # You can adjust this\n",
    "for epoch in range(num_epochs):\n",
    "    # Zero the gradients before each batch\n",
    "    optimizer.zero_grad()\n",
    "    \n",
    "    # Forward pass\n",
    "    y_pred = backbone(x_train_tensor1)  # x_train_tensor1 has shape [250, 4, 5]\n",
    "    \n",
    "    # Ensure y_pred has shape [250], matching the target shape\n",
    "    y_pred = y_pred.squeeze()  # Remove extra dimensions (shape should become [250])\n",
    "    \n",
    "    # Calculate the loss\n",
    "    loss = loss_function(y_pred, y_train_tensor1)  # y_train_tensor1 has shape [250]\n",
    "    \n",
    "    # Calculate additional metrics using PyTorch\n",
    "    mae = torch.mean(torch.abs(y_pred - y_train_tensor1))  # Mean Absolute Error\n",
    "    rmse = torch.sqrt(torch.mean((y_pred - y_train_tensor1) ** 2))  # Root Mean Squared Error\n",
    "    r2 = 1 - torch.sum((y_train_tensor1 - y_pred) ** 2) / torch.sum((y_train_tensor1 - torch.mean(y_train_tensor1)) ** 2)  # R²\n",
    "\n",
    "    # Backward pass\n",
    "    loss.backward()\n",
    "    \n",
    "    # Update the weights\n",
    "    optimizer.step()\n",
    "    \n",
    "    # Print the results for this epoch\n",
    "    print(f'Epoch [{epoch+1}/{num_epochs}], Loss: {loss.item():.4f}, MAE: {mae.item():.4f}, RMSE: {rmse.item():.4f}, R²: {r2.item():.4f}')\n",
    "\n",
    "# Once training is done, you can switch to eval mode for inference\n",
    "backbone.eval()\n"
   ]
  },
  {
   "cell_type": "code",
   "execution_count": 160,
   "id": "20539336-3d9d-411d-b1aa-e5e0fe322feb",
   "metadata": {},
   "outputs": [
    {
     "name": "stdout",
     "output_type": "stream",
     "text": [
      "Test Metrics - MAE: 0.1253, RMSE: 0.1425, R²: -1.4190\n"
     ]
    }
   ],
   "source": [
    "import torch\n",
    "\n",
    "# Switch to evaluation mode before making predictions\n",
    "backbone.eval()\n",
    "\n",
    "# Forward pass on the test set\n",
    "y_test_pred = backbone(x_test_tensor1)  # x_test_tensor1 has shape [num_test_samples, 4, 5]\n",
    "\n",
    "# Ensure y_test_pred has shape [num_test_samples], matching the target shape\n",
    "y_test_pred = y_test_pred.squeeze()  # Remove extra dimensions (shape should become [num_test_samples])\n",
    "\n",
    "# Calculate MAE (Mean Absolute Error)\n",
    "mae_test = torch.mean(torch.abs(y_test_pred - y_test_tensor1))\n",
    "\n",
    "# Calculate MSE (Mean Squared Error)\n",
    "mse_test = torch.mean((y_test_pred - y_test_tensor1) ** 2)\n",
    "\n",
    "# Calculate RMSE (Root Mean Squared Error)\n",
    "rmse_test = torch.sqrt(mse_test)\n",
    "\n",
    "# Calculate R² (Coefficient of Determination)\n",
    "ss_total = torch.sum((y_test_tensor1 - torch.mean(y_test_tensor1)) ** 2)\n",
    "ss_residual = torch.sum((y_test_tensor1 - y_test_pred) ** 2)\n",
    "r2_test = 1 - (ss_residual / ss_total)\n",
    "\n",
    "# Print the results for the test set\n",
    "print(f'Test Metrics - MAE: {mae_test.item():.4f}, RMSE: {rmse_test.item():.4f}, R²: {r2_test.item():.4f}')\n"
   ]
  },
  {
   "cell_type": "code",
   "execution_count": 157,
   "id": "904aa414-ea92-4c41-98d1-6ba58dfe781a",
   "metadata": {},
   "outputs": [
    {
     "ename": "NameError",
     "evalue": "name 'y_val' is not defined",
     "output_type": "error",
     "traceback": [
      "\u001b[1;31m---------------------------------------------------------------------------\u001b[0m",
      "\u001b[1;31mNameError\u001b[0m                                 Traceback (most recent call last)",
      "Cell \u001b[1;32mIn[157], line 5\u001b[0m\n\u001b[0;32m      3\u001b[0m plt\u001b[38;5;241m.\u001b[39mfigure(figsize\u001b[38;5;241m=\u001b[39m(\u001b[38;5;241m8\u001b[39m, \u001b[38;5;241m4\u001b[39m))\n\u001b[0;32m      4\u001b[0m plt\u001b[38;5;241m.\u001b[39mhist(y_train, bins\u001b[38;5;241m=\u001b[39m\u001b[38;5;241m30\u001b[39m, alpha\u001b[38;5;241m=\u001b[39m\u001b[38;5;241m0.5\u001b[39m, label\u001b[38;5;241m=\u001b[39m\u001b[38;5;124m'\u001b[39m\u001b[38;5;124mTrain\u001b[39m\u001b[38;5;124m'\u001b[39m)\n\u001b[1;32m----> 5\u001b[0m plt\u001b[38;5;241m.\u001b[39mhist(\u001b[43my_val\u001b[49m, bins\u001b[38;5;241m=\u001b[39m\u001b[38;5;241m30\u001b[39m, alpha\u001b[38;5;241m=\u001b[39m\u001b[38;5;241m0.5\u001b[39m, label\u001b[38;5;241m=\u001b[39m\u001b[38;5;124m'\u001b[39m\u001b[38;5;124mValidation\u001b[39m\u001b[38;5;124m'\u001b[39m)\n\u001b[0;32m      6\u001b[0m plt\u001b[38;5;241m.\u001b[39mhist(y_test, bins\u001b[38;5;241m=\u001b[39m\u001b[38;5;241m30\u001b[39m, alpha\u001b[38;5;241m=\u001b[39m\u001b[38;5;241m0.5\u001b[39m, label\u001b[38;5;241m=\u001b[39m\u001b[38;5;124m'\u001b[39m\u001b[38;5;124mTest\u001b[39m\u001b[38;5;124m'\u001b[39m)\n\u001b[0;32m      7\u001b[0m plt\u001b[38;5;241m.\u001b[39mlegend()\n",
      "\u001b[1;31mNameError\u001b[0m: name 'y_val' is not defined"
     ]
    },
    {
     "data": {
      "image/png": "[encoded data removed]",
      "text/plain": [
       "<Figure size 800x400 with 1 Axes>"
      ]
     },
     "metadata": {},
     "output_type": "display_data"
    }
   ],
   "source": [
    "import matplotlib.pyplot as plt\n",
    "\n",
    "plt.figure(figsize=(8, 4))\n",
    "plt.hist(y_train, bins=30, alpha=0.5, label='Train')\n",
    "plt.hist(y_val, bins=30, alpha=0.5, label='Validation')\n",
    "plt.hist(y_test, bins=30, alpha=0.5, label='Test')\n",
    "plt.legend()\n",
    "plt.title(\"Target Distribution\")\n",
    "plt.xlabel(\"Target Value\")\n",
    "plt.ylabel(\"Count\")\n",
    "plt.show()\n"
   ]
  },
  {
   "cell_type": "code",
   "execution_count": null,
   "id": "f3af42c8-2d27-498d-aecf-1e56c335f779",
   "metadata": {},
   "outputs": [],
   "source": []
  }
 ],
 "metadata": {
  "kernelspec": {
   "display_name": "Python 3 (ipykernel)",
   "language": "python",
   "name": "python3"
  },
  "language_info": {
   "codemirror_mode": {
    "name": "ipython",
    "version": 3
   },
   "file_extension": ".py",
   "mimetype": "text/x-python",
   "name": "python",
   "nbconvert_exporter": "python",
   "pygments_lexer": "ipython3",
   "version": "3.10.4"
  }
 },
 "nbformat": 4,
 "nbformat_minor": 5
}
